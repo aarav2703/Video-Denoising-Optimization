{
  "nbformat": 4,
  "nbformat_minor": 0,
  "metadata": {
    "colab": {
      "provenance": [],
      "authorship_tag": "ABX9TyOjKVKtXe24frZr0K8tdEz9",
      "include_colab_link": true
    },
    "kernelspec": {
      "name": "python3",
      "display_name": "Python 3"
    },
    "language_info": {
      "name": "python"
    }
  },
  "cells": [
    {
      "cell_type": "markdown",
      "metadata": {
        "id": "view-in-github",
        "colab_type": "text"
      },
      "source": [
        "<a href=\"https://colab.research.google.com/github/aarav2703/Video-Denoising-Optimization/blob/experimental-code/temporal_adjustable.ipynb\" target=\"_parent\"><img src=\"https://colab.research.google.com/assets/colab-badge.svg\" alt=\"Open In Colab\"/></a>"
      ]
    },
    {
      "cell_type": "code",
      "execution_count": null,
      "metadata": {
        "colab": {
          "base_uri": "https://localhost:8080/"
        },
        "id": "-GJHADze-jn5",
        "outputId": "33796e84-73b7-4cb4-ee65-8ce7a4b9ba2c"
      },
      "outputs": [
        {
          "output_type": "stream",
          "name": "stdout",
          "text": [
            "Drive already mounted at /content/drive; to attempt to forcibly remount, call drive.mount(\"/content/drive\", force_remount=True).\n",
            "Requirement already satisfied: moviepy in /usr/local/lib/python3.10/dist-packages (1.0.3)\n",
            "Requirement already satisfied: decorator<5.0,>=4.0.2 in /usr/local/lib/python3.10/dist-packages (from moviepy) (4.4.2)\n",
            "Requirement already satisfied: tqdm<5.0,>=4.11.2 in /usr/local/lib/python3.10/dist-packages (from moviepy) (4.66.2)\n",
            "Requirement already satisfied: requests<3.0,>=2.8.1 in /usr/local/lib/python3.10/dist-packages (from moviepy) (2.31.0)\n",
            "Requirement already satisfied: proglog<=1.0.0 in /usr/local/lib/python3.10/dist-packages (from moviepy) (0.1.10)\n",
            "Requirement already satisfied: numpy>=1.17.3 in /usr/local/lib/python3.10/dist-packages (from moviepy) (1.25.2)\n",
            "Requirement already satisfied: imageio<3.0,>=2.5 in /usr/local/lib/python3.10/dist-packages (from moviepy) (2.31.6)\n",
            "Requirement already satisfied: imageio-ffmpeg>=0.2.0 in /usr/local/lib/python3.10/dist-packages (from moviepy) (0.4.9)\n",
            "Requirement already satisfied: pillow<10.1.0,>=8.3.2 in /usr/local/lib/python3.10/dist-packages (from imageio<3.0,>=2.5->moviepy) (9.4.0)\n",
            "Requirement already satisfied: setuptools in /usr/local/lib/python3.10/dist-packages (from imageio-ffmpeg>=0.2.0->moviepy) (67.7.2)\n",
            "Requirement already satisfied: charset-normalizer<4,>=2 in /usr/local/lib/python3.10/dist-packages (from requests<3.0,>=2.8.1->moviepy) (3.3.2)\n",
            "Requirement already satisfied: idna<4,>=2.5 in /usr/local/lib/python3.10/dist-packages (from requests<3.0,>=2.8.1->moviepy) (3.6)\n",
            "Requirement already satisfied: urllib3<3,>=1.21.1 in /usr/local/lib/python3.10/dist-packages (from requests<3.0,>=2.8.1->moviepy) (2.0.7)\n",
            "Requirement already satisfied: certifi>=2017.4.17 in /usr/local/lib/python3.10/dist-packages (from requests<3.0,>=2.8.1->moviepy) (2024.2.2)\n"
          ]
        },
        {
          "output_type": "stream",
          "name": "stderr",
          "text": [
            "WARNING:py.warnings:/usr/local/lib/python3.10/dist-packages/moviepy/video/io/ffmpeg_reader.py:123: UserWarning: Warning: in file /content/drive/MyDrive/Colab Notebooks/video denoising media/noisy original video/skiing.mp4, 6220800 bytes wanted but 0 bytes read,at frame 470/471, at time 18.80/18.80 sec. Using the last valid frame instead.\n",
            "  warnings.warn(\"Warning: in file %s, \"%(self.filename)+\n",
            "\n"
          ]
        },
        {
          "output_type": "stream",
          "name": "stdout",
          "text": [
            "Moviepy - Building video /content/drive/MyDrive/Colab Notebooks/video denoising media/denoised videos/skiing adj temporal_720p.mp4.\n",
            "Moviepy - Writing video /content/drive/MyDrive/Colab Notebooks/video denoising media/denoised videos/skiing adj temporal_720p.mp4\n",
            "\n"
          ]
        },
        {
          "output_type": "stream",
          "name": "stderr",
          "text": []
        },
        {
          "output_type": "stream",
          "name": "stdout",
          "text": [
            "Moviepy - Done !\n",
            "Moviepy - video ready /content/drive/MyDrive/Colab Notebooks/video denoising media/denoised videos/skiing adj temporal_720p.mp4\n",
            "Denoising completed. Download the denoised video:\n",
            "/content/drive/MyDrive/Colab Notebooks/video denoising media/denoised videos/skiing adj temporal_720p.mp4\n"
          ]
        }
      ],
      "source": [
        "# Cell 1: Mount Google Drive to access files\n",
        "from google.colab import drive\n",
        "drive.mount('/content/drive')\n",
        "\n",
        "# Cell 2: Install necessary libraries\n",
        "!pip install moviepy\n",
        "\n",
        "# Cell 3: Import libraries\n",
        "import numpy as np\n",
        "import moviepy.editor as mp\n",
        "\n",
        "# Cell 4: Define function for temporal filtering (e.g., median filter)\n",
        "def temporal_filter(frames, filter_size=3):\n",
        "    filtered_frames = []\n",
        "    for i in range(len(frames)):\n",
        "        start_idx = max(0, i - filter_size // 2)\n",
        "        end_idx = min(len(frames), i + filter_size // 2 + 1)\n",
        "        filtered_frame = np.median(frames[start_idx:end_idx], axis=0)\n",
        "        filtered_frames.append(filtered_frame)\n",
        "    return filtered_frames\n",
        "\n",
        "# Cell 5: Specify directory where the video is located\n",
        "video_directory = '/content/drive/MyDrive/Colab Notebooks/video denoising media/noisy original video/'\n",
        "\n",
        "# Cell 6: Specify the name of the input video file\n",
        "video_filename = 'skiing.mp4'\n",
        "\n",
        "# Cell 7: Process and denoise the video in segments with reduced frame size, incremental processing, and reduced segment duration\n",
        "video_path = video_directory + video_filename\n",
        "\n",
        "video_clip = mp.VideoFileClip(video_path)\n",
        "fps = video_clip.fps\n",
        "duration = video_clip.duration\n",
        "segment_duration = 3  # Process 3 seconds of video at a time\n",
        "num_segments = int(np.ceil(duration / segment_duration))\n",
        "\n",
        "output_frames = []\n",
        "\n",
        "for i in range(num_segments):\n",
        "    start_time = i * segment_duration\n",
        "    end_time = min((i + 1) * segment_duration, duration)\n",
        "    segment_clip = video_clip.subclip(start_time, end_time)\n",
        "    segment_clip_resized = segment_clip.resize((1280, 720))  # Resize frame to 720p resolution\n",
        "    for frame in segment_clip_resized.iter_frames():  # Process frames incrementally\n",
        "        denoised_frame = temporal_filter([frame], filter_size=3)[0]  # Use a smaller filter size\n",
        "        output_frames.append(denoised_frame)\n",
        "\n",
        "# Cell 8: Specify directory where the denoised video will be saved\n",
        "output_directory = '/content/drive/MyDrive/Colab Notebooks/video denoising media/denoised videos/'\n",
        "\n",
        "# Cell 9: Create a new video clip with denoised frames\n",
        "denoised_video_clip = mp.ImageSequenceClip(output_frames, fps=fps)\n",
        "\n",
        "# Cell 10: Define output video file path\n",
        "output_video_path = output_directory + 'skiing adj temporal_720p.mp4'  # Adjust filename and resolution\n",
        "\n",
        "# Cell 11: Write denoised video clip to the output file\n",
        "denoised_video_clip.write_videofile(output_video_path, fps=fps, codec='libx264', threads=4)  # Adjust codec and threads for performance\n",
        "\n",
        "# Cell 12: Provide download link for the denoised video\n",
        "print(\"Denoising completed. Download the denoised video:\")\n",
        "print(output_video_path)\n"
      ]
    }
  ]
}