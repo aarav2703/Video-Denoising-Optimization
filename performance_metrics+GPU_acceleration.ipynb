{
  "nbformat": 4,
  "nbformat_minor": 0,
  "metadata": {
    "colab": {
      "provenance": [],
      "gpuType": "T4",
      "mount_file_id": "15_UDjUfzbGY_GKpUSg1eCyaF0-L4sgMx",
      "authorship_tag": "ABX9TyObA/PmLaOaUkaNoK1muN56",
      "include_colab_link": true
    },
    "kernelspec": {
      "name": "python3",
      "display_name": "Python 3"
    },
    "language_info": {
      "name": "python"
    },
    "accelerator": "GPU"
  },
  "cells": [
    {
      "cell_type": "markdown",
      "metadata": {
        "id": "view-in-github",
        "colab_type": "text"
      },
      "source": [
        "<a href=\"https://colab.research.google.com/github/aarav2703/Video-Denoising-Optimization/blob/main/performance_metrics%2BGPU_acceleration.ipynb\" target=\"_parent\"><img src=\"https://colab.research.google.com/assets/colab-badge.svg\" alt=\"Open In Colab\"/></a>"
      ]
    },
    {
      "cell_type": "code",
      "execution_count": null,
      "metadata": {
        "colab": {
          "base_uri": "https://localhost:8080/"
        },
        "id": "_M0YkzwDoFU3",
        "outputId": "1691ada1-4fff-485d-e34a-35c8e48062f4"
      },
      "outputs": [
        {
          "output_type": "stream",
          "name": "stdout",
          "text": [
            "Drive already mounted at /content/drive; to attempt to forcibly remount, call drive.mount(\"/content/drive\", force_remount=True).\n",
            "PSNR - Original vs Spatial Denoised: 22.618301\n",
            "PSNR - Original vs Temporal Denoised: 23.804422\n",
            "PSNR - Original vs DCT Denoised: 36.16873\n",
            "SSIM - Original vs Spatial Denoised: 0.58703583\n",
            "SSIM - Original vs Temporal Denoised: 0.5445469\n",
            "SSIM - Original vs DCT Denoised: 0.9710502\n",
            "MSE - Original vs Spatial Denoised: 357.0775\n",
            "MSE - Original vs Temporal Denoised: 280.11725\n",
            "MSE - Original vs DCT Denoised: 15.801986\n"
          ]
        }
      ],
      "source": [
        "import tensorflow as tf\n",
        "from google.colab import drive\n",
        "import cv2\n",
        "import numpy as np\n",
        "from skimage.metrics import structural_similarity as ssim\n",
        "from skimage.metrics import mean_squared_error\n",
        "\n",
        "# Mount Google Drive\n",
        "drive.mount('/content/drive')\n",
        "\n",
        "# Function to resize frames\n",
        "def resize_frame(frame, width=None, height=None):\n",
        "    if width is None and height is None:\n",
        "        return frame\n",
        "    if width is None:\n",
        "        r = height / frame.shape[0]\n",
        "        dim = (int(frame.shape[1] * r), height)\n",
        "    else:\n",
        "        r = width / frame.shape[1]\n",
        "        dim = (width, int(frame.shape[0] * r))\n",
        "    resized_frame = cv2.resize(frame, dim, interpolation=cv2.INTER_LINEAR)\n",
        "    return resized_frame\n",
        "\n",
        "# Function to compute PSNR\n",
        "def compute_psnr(video1, video2):\n",
        "    original = cv2.VideoCapture(video1)\n",
        "    denoised = cv2.VideoCapture(video2)\n",
        "    psnr_values = []\n",
        "    while True:\n",
        "        ret1, frame1 = original.read()\n",
        "        ret2, frame2 = denoised.read()\n",
        "        if not ret1 or not ret2:\n",
        "            break\n",
        "        # Resize frames to have the same dimensions\n",
        "        frame1_resized = resize_frame(frame1, width=frame2.shape[1], height=frame2.shape[0])\n",
        "        frame1_tensor = tf.convert_to_tensor(frame1_resized, dtype=tf.float32)\n",
        "        frame2_tensor = tf.convert_to_tensor(frame2, dtype=tf.float32)\n",
        "        psnr = tf.image.psnr(frame1_tensor, frame2_tensor, max_val=255)\n",
        "        psnr_values.append(psnr)\n",
        "    return np.mean(psnr_values)\n",
        "\n",
        "# Function to compute SSIM\n",
        "def compute_ssim(video1, video2):\n",
        "    original = cv2.VideoCapture(video1)\n",
        "    denoised = cv2.VideoCapture(video2)\n",
        "    ssim_values = []\n",
        "    while True:\n",
        "        ret1, frame1 = original.read()\n",
        "        ret2, frame2 = denoised.read()\n",
        "        if not ret1 or not ret2:\n",
        "            break\n",
        "        # Resize frames to have the same dimensions\n",
        "        frame1_resized = resize_frame(frame1, width=frame2.shape[1], height=frame2.shape[0])\n",
        "        frame1_tensor = tf.convert_to_tensor(frame1_resized, dtype=tf.float32)\n",
        "        frame2_tensor = tf.convert_to_tensor(frame2, dtype=tf.float32)\n",
        "        ssim_value = tf.image.ssim(frame1_tensor, frame2_tensor, max_val=255)\n",
        "        ssim_values.append(ssim_value)\n",
        "    return np.mean(ssim_values)\n",
        "\n",
        "# Function to compute MSE\n",
        "def compute_mse(video1, video2):\n",
        "    original = cv2.VideoCapture(video1)\n",
        "    denoised = cv2.VideoCapture(video2)\n",
        "    mse_values = []\n",
        "    while True:\n",
        "        ret1, frame1 = original.read()\n",
        "        ret2, frame2 = denoised.read()\n",
        "        if not ret1 or not ret2:\n",
        "            break\n",
        "        # Resize frames to have the same dimensions\n",
        "        frame1_resized = resize_frame(frame1, width=frame2.shape[1], height=frame2.shape[0])\n",
        "        frame1_tensor = tf.convert_to_tensor(frame1_resized, dtype=tf.float32)\n",
        "        frame2_tensor = tf.convert_to_tensor(frame2, dtype=tf.float32)\n",
        "        mse = tf.keras.losses.mean_squared_error(frame1_tensor, frame2_tensor)\n",
        "        mse_values.append(mse)\n",
        "    return np.mean(mse_values)\n",
        "\n",
        "# Define file paths\n",
        "original_video_path = '/content/drive/MyDrive/Colab Notebooks/video denoising media/noisy original video/skiing.mp4'\n",
        "spatial_denoised_video_path = '/content/drive/MyDrive/Colab Notebooks/video denoising media/denoised videos/skiing_spatial.mp4'\n",
        "temporal_denoised_video_path = '/content/drive/MyDrive/Colab Notebooks/video denoising media/denoised videos/skiing_temporal.mp4'\n",
        "dct_denoised_video_path = '/content/drive/MyDrive/Colab Notebooks/video denoising media/denoised videos/skiing_denoised_video_dct_color_preservation.mp4'\n",
        "\n",
        "# Compute PSNR, SSIM, and MSE for each pair of videos\n",
        "psnr_original_spatial = compute_psnr(original_video_path, spatial_denoised_video_path)\n",
        "psnr_original_temporal = compute_psnr(original_video_path, temporal_denoised_video_path)\n",
        "psnr_original_dct = compute_psnr(original_video_path, dct_denoised_video_path)\n",
        "\n",
        "ssim_original_spatial = compute_ssim(original_video_path, spatial_denoised_video_path)\n",
        "ssim_original_temporal = compute_ssim(original_video_path, temporal_denoised_video_path)\n",
        "ssim_original_dct = compute_ssim(original_video_path, dct_denoised_video_path)\n",
        "\n",
        "mse_original_spatial = compute_mse(original_video_path, spatial_denoised_video_path)\n",
        "mse_original_temporal = compute_mse(original_video_path, temporal_denoised_video_path)\n",
        "mse_original_dct = compute_mse(original_video_path, dct_denoised_video_path)\n",
        "\n",
        "# Print results\n",
        "print(\"PSNR - Original vs Spatial Denoised:\", psnr_original_spatial)\n",
        "print(\"PSNR - Original vs Temporal Denoised:\", psnr_original_temporal)\n",
        "print(\"PSNR - Original vs DCT Denoised:\", psnr_original_dct)\n",
        "\n",
        "print(\"SSIM - Original vs Spatial Denoised:\", ssim_original_spatial)\n",
        "print(\"SSIM - Original vs Temporal Denoised:\", ssim_original_temporal)\n",
        "print(\"SSIM - Original vs DCT Denoised:\", ssim_original_dct)\n",
        "\n",
        "print(\"MSE - Original vs Spatial Denoised:\", mse_original_spatial)\n",
        "print(\"MSE - Original vs Temporal Denoised:\", mse_original_temporal)\n",
        "print(\"MSE - Original vs DCT Denoised:\", mse_original_dct)\n"
      ]
    },
    {
      "cell_type": "code",
      "source": [
        "\n",
        "\n",
        "# PSNR values for each denoised video\n",
        "psnr_values = {\n",
        "    \"Spatial Denoised\": psnr_original_spatial,\n",
        "    \"Temporal Denoised\": psnr_original_temporal,\n",
        "    \"DCT Denoised\": psnr_original_dct\n",
        "}\n",
        "\n",
        "# Sort PSNR values in descending order\n",
        "sorted_psnr = sorted(psnr_values.items(), key=lambda x: x[1], reverse=True)\n",
        "\n",
        "# Generate explanation\n",
        "explanation = \"Comparing the PSNR values, the {} video has the highest PSNR value, indicating that it preserves image quality the best among the denoised videos. \\nThe {} video comes next, followed by the {} video with the lowest PSNR value.\\nTherefore, in terms of PSNR, the order of preference from best to worst would be: {}, {} > {}.\"\n",
        "\n",
        "# Extract denoised methods\n",
        "best_method = sorted_psnr[0][0]\n",
        "better_method = sorted_psnr[1][0]\n",
        "worst_method = sorted_psnr[2][0]\n",
        "\n",
        "# Print explanation\n",
        "print(explanation.format(best_method, sorted_psnr[1][0], sorted_psnr[2][0], best_method, better_method, worst_method))\n"
      ],
      "metadata": {
        "colab": {
          "base_uri": "https://localhost:8080/"
        },
        "id": "Yy0EcuiRr8nP",
        "outputId": "19fbe9ac-87bb-4350-dd39-1ae63310a18c"
      },
      "execution_count": null,
      "outputs": [
        {
          "output_type": "stream",
          "name": "stdout",
          "text": [
            "Comparing the PSNR values, the DCT Denoised video has the highest PSNR value, indicating that it preserves image quality the best among the denoised videos. \n",
            "The Temporal Denoised video comes next, followed by the Spatial Denoised video with the lowest PSNR value.\n",
            "Therefore, in terms of PSNR, the order of preference from best to worst would be: DCT Denoised, Temporal Denoised > Spatial Denoised.\n"
          ]
        }
      ]
    },
    {
      "cell_type": "code",
      "source": [
        "# SSIM values taken from the provided code\n",
        "\n",
        "# SSIM values for each denoised video\n",
        "ssim_values = {\n",
        "    \"Spatial Denoised\": ssim_original_spatial,\n",
        "    \"Temporal Denoised\": ssim_original_temporal,\n",
        "    \"DCT Denoised\": ssim_original_dct\n",
        "}\n",
        "\n",
        "# Sort SSIM values in descending order\n",
        "sorted_ssim = sorted(ssim_values.items(), key=lambda x: x[1], reverse=True)\n",
        "\n",
        "# Generate explanation\n",
        "explanation = \"Comparing the SSIM values, the {} video has the highest SSIM value, indicating that it preserves image quality the best among the denoised videos. \\nThe {} video comes next, followed by the {} video with the lowest SSIM value.\\nTherefore, in terms of SSIM, the order of preference from best to worst would be: {}, {} > {}.\"\n",
        "\n",
        "# Extract denoised methods\n",
        "best_method = sorted_ssim[0][0]\n",
        "better_method = sorted_ssim[1][0]\n",
        "worst_method = sorted_ssim[2][0]\n",
        "\n",
        "# Print explanation\n",
        "print(explanation.format(best_method, sorted_ssim[1][0], sorted_ssim[2][0], best_method, better_method, worst_method))\n"
      ],
      "metadata": {
        "colab": {
          "base_uri": "https://localhost:8080/"
        },
        "id": "wQLJhGVqr9VU",
        "outputId": "f68bcc45-ca43-4692-e9ff-cd18f7c15ddb"
      },
      "execution_count": null,
      "outputs": [
        {
          "output_type": "stream",
          "name": "stdout",
          "text": [
            "Comparing the SSIM values, the DCT Denoised video has the highest SSIM value, indicating that it preserves image quality the best among the denoised videos. \n",
            "The Spatial Denoised video comes next, followed by the Temporal Denoised video with the lowest SSIM value.\n",
            "Therefore, in terms of SSIM, the order of preference from best to worst would be: DCT Denoised, Spatial Denoised > Temporal Denoised.\n"
          ]
        }
      ]
    },
    {
      "cell_type": "code",
      "source": [
        "\n",
        "\n",
        "# MSE values for each denoised video\n",
        "mse_values = {\n",
        "    \"Spatial Denoised\": mse_original_spatial,\n",
        "    \"Temporal Denoised\": mse_original_temporal,\n",
        "    \"DCT Denoised\": mse_original_dct\n",
        "}\n",
        "\n",
        "# Sort MSE values in ascending order\n",
        "sorted_mse = sorted(mse_values.items(), key=lambda x: x[1])\n",
        "\n",
        "# Generate explanation\n",
        "explanation = \"Comparing the MSE values, the {} video has the lowest MSE value, indicating that it preserves image quality the best among the denoised videos. \\nThe {} video comes next, followed by the {} video with the highest MSE value.\\nTherefore, in terms of MSE, the order of preference from best to worst would be: {}, {} > {}.\"\n",
        "\n",
        "# Extract denoised methods\n",
        "best_method = sorted_mse[0][0]\n",
        "better_method = sorted_mse[1][0]\n",
        "worst_method = sorted_mse[2][0]\n",
        "\n",
        "# Print explanation\n",
        "print(explanation.format(best_method, sorted_mse[1][0], sorted_mse[2][0], best_method, better_method, worst_method))\n"
      ],
      "metadata": {
        "colab": {
          "base_uri": "https://localhost:8080/"
        },
        "id": "AGSS3CcOr_Bz",
        "outputId": "c1698a6e-fac1-4129-ae31-69a903b751f7"
      },
      "execution_count": null,
      "outputs": [
        {
          "output_type": "stream",
          "name": "stdout",
          "text": [
            "Comparing the MSE values, the DCT Denoised video has the lowest MSE value, indicating that it preserves image quality the best among the denoised videos. \n",
            "The Temporal Denoised video comes next, followed by the Spatial Denoised video with the highest MSE value.\n",
            "Therefore, in terms of MSE, the order of preference from best to worst would be: DCT Denoised, Temporal Denoised > Spatial Denoised.\n"
          ]
        }
      ]
    },
    {
      "cell_type": "code",
      "source": [],
      "metadata": {
        "id": "KWin-dbtsBGw"
      },
      "execution_count": null,
      "outputs": []
    }
  ]
}