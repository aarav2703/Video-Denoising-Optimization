{
  "nbformat": 4,
  "nbformat_minor": 0,
  "metadata": {
    "colab": {
      "provenance": [],
      "authorship_tag": "ABX9TyNOqb2Mk+a5df5rl1WCPUSK",
      "include_colab_link": true
    },
    "kernelspec": {
      "name": "python3",
      "display_name": "Python 3"
    },
    "language_info": {
      "name": "python"
    }
  },
  "cells": [
    {
      "cell_type": "markdown",
      "metadata": {
        "id": "view-in-github",
        "colab_type": "text"
      },
      "source": [
        "<a href=\"https://colab.research.google.com/github/aarav2703/Video-Denoising-Optimization/blob/main/pre_processing.ipynb\" target=\"_parent\"><img src=\"https://colab.research.google.com/assets/colab-badge.svg\" alt=\"Open In Colab\"/></a>"
      ]
    },
    {
      "cell_type": "code",
      "execution_count": null,
      "metadata": {
        "id": "BeaysuD875UH"
      },
      "outputs": [],
      "source": [
        "# Mount Google Drive to access files\n",
        "from google.colab import drive\n",
        "drive.mount('/content/drive')\n",
        "\n",
        "# Import necessary libraries\n",
        "import os\n",
        "import moviepy.editor as mp\n",
        "\n",
        "# Define original noisy video directory\n",
        "video_directory = '/content/drive/MyDrive/Colab Notebooks/video denoising media/un-preprocessed videos/'\n",
        "\n",
        "# Define function to preprocess video\n",
        "def preprocess_video(video_path):\n",
        "    # Read video file\n",
        "    video_clip = mp.VideoFileClip(video_path)\n",
        "\n",
        "    # Check aspect ratio (16:9)\n",
        "    aspect_ratio = video_clip.size[0] / video_clip.size[1]\n",
        "    is_16_9 = abs(aspect_ratio - (16 / 9)) < 0.01\n",
        "\n",
        "    # Display video information\n",
        "    print(\"Video Resolution:\", video_clip.size)\n",
        "    print(\"Video Duration:\", video_clip.duration, \"seconds\")\n",
        "    print(\"File Size:\", os.path.getsize(video_path) / (1024 * 1024), \"MB\")\n",
        "    print(\"Number of Frames:\", int(video_clip.duration * video_clip.fps))\n",
        "    print(\"Frame Rate:\", video_clip.fps, \"fps\")\n",
        "\n",
        "    # Resize video if resolution is above 1920x1080\n",
        "    if video_clip.size[0] > 1920 or video_clip.size[1] > 1080:\n",
        "        video_clip = video_clip.resize((min(video_clip.size[0], 1920), min(video_clip.size[1], 1080)))\n",
        "        print(\"Video Resized to:\", video_clip.size)\n",
        "\n",
        "    # Reduce frame rate if above 30 fps\n",
        "    if video_clip.fps > 30:\n",
        "        video_clip = video_clip.set_fps(30)\n",
        "        print(\"Frame Rate Reduced to:\", video_clip.fps, \"fps\")\n",
        "\n",
        "    # Save preprocessed video\n",
        "    output_path = '/content/drive/MyDrive/Colab Notebooks/video denoising media/noisy original video/'\n",
        "    output_filename = os.path.basename(video_path)\n",
        "    video_clip.write_videofile(os.path.join(output_path, output_filename))\n",
        "    print(\"Preprocessing Completed. Preprocessed video saved at:\", output_path + output_filename)\n",
        "\n",
        "# Specify the name of the input video file\n",
        "video_filename = 'clock tower drone.mp4'\n",
        "\n",
        "# Process and preprocess the video\n",
        "video_path = os.path.join(video_directory, video_filename)\n",
        "preprocess_video(video_path)\n"
      ]
    },
    {
      "cell_type": "code",
      "source": [
        "Bilateral Filtering to preserve edges\n",
        "Non-Local Means for spatial redundancy\n",
        "Reduce frame size and denoise in segments\n",
        "Adaptive thresholding and bilateral filtering\n",
        "Choosing optimal sigma and kernel size for Gaussian Blur"
      ],
      "metadata": {
        "id": "c059j5MbsqzW"
      },
      "execution_count": null,
      "outputs": []
    }
  ]
}