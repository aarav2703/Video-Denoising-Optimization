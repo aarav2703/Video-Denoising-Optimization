{
  "nbformat": 4,
  "nbformat_minor": 0,
  "metadata": {
    "colab": {
      "provenance": [],
      "authorship_tag": "ABX9TyP1BIkUonQU1jrmvmYwa223",
      "include_colab_link": true
    },
    "kernelspec": {
      "name": "python3",
      "display_name": "Python 3"
    },
    "language_info": {
      "name": "python"
    }
  },
  "cells": [
    {
      "cell_type": "markdown",
      "metadata": {
        "id": "view-in-github",
        "colab_type": "text"
      },
      "source": [
        "<a href=\"https://colab.research.google.com/github/aarav2703/Video-Denoising-Optimization/blob/experimental-code/temporal_experiment.ipynb\" target=\"_parent\"><img src=\"https://colab.research.google.com/assets/colab-badge.svg\" alt=\"Open In Colab\"/></a>"
      ]
    },
    {
      "cell_type": "code",
      "execution_count": null,
      "metadata": {
        "colab": {
          "base_uri": "https://localhost:8080/"
        },
        "id": "zAlOgv-u0Tt1",
        "outputId": "f568565c-f5bf-4b12-89a1-9c324a4f4af7"
      },
      "outputs": [
        {
          "output_type": "stream",
          "name": "stdout",
          "text": [
            "Drive already mounted at /content/drive; to attempt to forcibly remount, call drive.mount(\"/content/drive\", force_remount=True).\n",
            "Requirement already satisfied: moviepy in /usr/local/lib/python3.10/dist-packages (1.0.3)\n",
            "Requirement already satisfied: decorator<5.0,>=4.0.2 in /usr/local/lib/python3.10/dist-packages (from moviepy) (4.4.2)\n",
            "Requirement already satisfied: tqdm<5.0,>=4.11.2 in /usr/local/lib/python3.10/dist-packages (from moviepy) (4.66.2)\n",
            "Requirement already satisfied: requests<3.0,>=2.8.1 in /usr/local/lib/python3.10/dist-packages (from moviepy) (2.31.0)\n",
            "Requirement already satisfied: proglog<=1.0.0 in /usr/local/lib/python3.10/dist-packages (from moviepy) (0.1.10)\n",
            "Requirement already satisfied: numpy>=1.17.3 in /usr/local/lib/python3.10/dist-packages (from moviepy) (1.25.2)\n",
            "Requirement already satisfied: imageio<3.0,>=2.5 in /usr/local/lib/python3.10/dist-packages (from moviepy) (2.31.6)\n",
            "Requirement already satisfied: imageio-ffmpeg>=0.2.0 in /usr/local/lib/python3.10/dist-packages (from moviepy) (0.4.9)\n",
            "Requirement already satisfied: pillow<10.1.0,>=8.3.2 in /usr/local/lib/python3.10/dist-packages (from imageio<3.0,>=2.5->moviepy) (9.4.0)\n",
            "Requirement already satisfied: setuptools in /usr/local/lib/python3.10/dist-packages (from imageio-ffmpeg>=0.2.0->moviepy) (67.7.2)\n",
            "Requirement already satisfied: charset-normalizer<4,>=2 in /usr/local/lib/python3.10/dist-packages (from requests<3.0,>=2.8.1->moviepy) (3.3.2)\n",
            "Requirement already satisfied: idna<4,>=2.5 in /usr/local/lib/python3.10/dist-packages (from requests<3.0,>=2.8.1->moviepy) (3.6)\n",
            "Requirement already satisfied: urllib3<3,>=1.21.1 in /usr/local/lib/python3.10/dist-packages (from requests<3.0,>=2.8.1->moviepy) (2.0.7)\n",
            "Requirement already satisfied: certifi>=2017.4.17 in /usr/local/lib/python3.10/dist-packages (from requests<3.0,>=2.8.1->moviepy) (2024.2.2)\n",
            "Moviepy - Building video /content/drive/MyDrive/Colab Notebooks/video denoising media/denoised videos/segment_0.mp4.\n",
            "Moviepy - Writing video /content/drive/MyDrive/Colab Notebooks/video denoising media/denoised videos/segment_0.mp4\n",
            "\n"
          ]
        },
        {
          "output_type": "stream",
          "name": "stderr",
          "text": []
        },
        {
          "output_type": "stream",
          "name": "stdout",
          "text": [
            "Moviepy - Done !\n",
            "Moviepy - video ready /content/drive/MyDrive/Colab Notebooks/video denoising media/denoised videos/segment_0.mp4\n",
            "Processed segment 0\n",
            "Moviepy - Building video /content/drive/MyDrive/Colab Notebooks/video denoising media/denoised videos/segment_1.mp4.\n",
            "Moviepy - Writing video /content/drive/MyDrive/Colab Notebooks/video denoising media/denoised videos/segment_1.mp4\n",
            "\n"
          ]
        },
        {
          "output_type": "stream",
          "name": "stderr",
          "text": []
        },
        {
          "output_type": "stream",
          "name": "stdout",
          "text": [
            "Moviepy - Done !\n",
            "Moviepy - video ready /content/drive/MyDrive/Colab Notebooks/video denoising media/denoised videos/segment_1.mp4\n",
            "Processed segment 1\n"
          ]
        },
        {
          "output_type": "stream",
          "name": "stderr",
          "text": [
            "WARNING:py.warnings:/usr/local/lib/python3.10/dist-packages/moviepy/video/io/ffmpeg_reader.py:123: UserWarning: Warning: in file /content/drive/MyDrive/Colab Notebooks/video denoising media/denoised videos/segment_0.mp4, 6220800 bytes wanted but 0 bytes read,at frame 180/181, at time 6.01/6.01 sec. Using the last valid frame instead.\n",
            "  warnings.warn(\"Warning: in file %s, \"%(self.filename)+\n",
            "\n"
          ]
        },
        {
          "output_type": "stream",
          "name": "stdout",
          "text": [
            "Denoised segment 0\n",
            "Moviepy - Building video /content/drive/MyDrive/Colab Notebooks/video denoising media/denoised videos/denoised_segment_0.mp4.\n",
            "Moviepy - Writing video /content/drive/MyDrive/Colab Notebooks/video denoising media/denoised videos/denoised_segment_0.mp4\n",
            "\n"
          ]
        },
        {
          "output_type": "stream",
          "name": "stderr",
          "text": []
        },
        {
          "output_type": "stream",
          "name": "stdout",
          "text": [
            "Moviepy - Done !\n",
            "Moviepy - video ready /content/drive/MyDrive/Colab Notebooks/video denoising media/denoised videos/denoised_segment_0.mp4\n",
            "Wrote denoised segment 0\n"
          ]
        }
      ],
      "source": [
        "import os\n",
        "import time\n",
        "\n",
        "# Cell 1: Mount Google Drive to access files\n",
        "from google.colab import drive\n",
        "drive.mount('/content/drive')\n",
        "\n",
        "# Cell 2: Install necessary libraries\n",
        "!pip install moviepy\n",
        "\n",
        "# Cell 3: Import libraries\n",
        "import numpy as np\n",
        "import moviepy.editor as mp\n",
        "\n",
        "# Define the output directory for processed videos\n",
        "output_directory = '/content/drive/MyDrive/Colab Notebooks/video denoising media/denoised videos/'\n",
        "\n",
        "# Cell 4: Define function for temporal filtering (e.g., median filter)\n",
        "def temporal_filter(frames, filter_size=3):\n",
        "    filtered_frames = []\n",
        "    for i in range(len(frames)):\n",
        "        start_idx = max(0, i - filter_size // 2)\n",
        "        end_idx = min(len(frames), i + filter_size // 2 + 1)\n",
        "        filtered_frame = np.median(frames[start_idx:end_idx], axis=0)\n",
        "        filtered_frames.append(filtered_frame)\n",
        "    return filtered_frames\n",
        "\n",
        "# Cell 5: Specify directory where the video is located\n",
        "video_directory = '/content/drive/MyDrive/Colab Notebooks/video denoising media/artificial noise adder/'\n",
        "\n",
        "# Cell 6: Specify the name of the input video file\n",
        "video_filename = 'srm bus archgate noise_added video.mp4'\n",
        "\n",
        "# Cell 7: Load the video and get its duration\n",
        "video_path = os.path.join(video_directory, video_filename)\n",
        "video_clip = mp.VideoFileClip(video_path)\n",
        "fps = video_clip.fps\n",
        "duration = video_clip.duration\n",
        "segment_duration = 6  # Process 6 seconds of video at a time\n",
        "\n",
        "# Calculate the number of segments based on the duration of the video and the segment duration\n",
        "num_segments = int(np.ceil(duration / segment_duration))\n",
        "\n",
        "# Cell 8: Process and denoise the video in segments with reduced frame size and write each segment to disk\n",
        "encoding_times = []\n",
        "\n",
        "for i in range(num_segments):\n",
        "    start_time = time.time()\n",
        "    start_time = i * segment_duration\n",
        "    end_time = min((i + 1) * segment_duration, duration)\n",
        "    segment_clip = video_clip.subclip(start_time, end_time)\n",
        "    segment_clip_resized = segment_clip.resize((1280,720))  # Resize frame to reduce memory usage\n",
        "    segment_filename = f'segment_{i}.mp4'\n",
        "    segment_path = os.path.join(output_directory, segment_filename)\n",
        "    segment_clip_resized.write_videofile(segment_path, codec='libx264', fps=fps)\n",
        "    del segment_clip, segment_clip_resized  # Release memory\n",
        "    print(f\"Processed segment {i}\")\n",
        "\n",
        "    encoding_time = time.time() - start_time\n",
        "    encoding_times.append(encoding_time)\n",
        "\n",
        "# Cell 9: Load and denoise each segment from disk and write the denoised frames to disk\n",
        "denoising_times = []\n",
        "\n",
        "for i in range(num_segments):\n",
        "    start_time = time.time()\n",
        "    segment_filename = f'segment_{i}.mp4'\n",
        "    segment_path = os.path.join(output_directory, segment_filename)\n",
        "    segment_clip = mp.VideoFileClip(segment_path)\n",
        "    segment_frames = [frame for frame in segment_clip.iter_frames()]\n",
        "    denoised_frames = temporal_filter(segment_frames)\n",
        "    del segment_frames  # Release memory\n",
        "    print(f\"Denoised segment {i}\")\n",
        "\n",
        "    # Write denoised frames to disk\n",
        "    output_segment_filename = f'denoised_segment_{i}.mp4'\n",
        "    output_segment_path = os.path.join(output_directory, output_segment_filename)\n",
        "    denoised_video_clip = mp.ImageSequenceClip(denoised_frames, fps=fps)\n",
        "    denoised_video_clip.write_videofile(output_segment_path, codec='libx264')\n",
        "    del denoised_video_clip, denoised_frames  # Release memory\n",
        "    print(f\"Wrote denoised segment {i}\")\n",
        "\n",
        "    denoising_time = time.time() - start_time\n",
        "    denoising_times.append(denoising_time)\n",
        "\n",
        "# Define the output filename for the denoised video\n",
        "output_video_filename = 'denoised_bus arch.mp4'\n",
        "\n",
        "# Cell 10: Concatenate denoised segments into final video\n",
        "start_time = time.time()\n",
        "denoised_segments = [mp.VideoFileClip(os.path.join(output_directory, f'denoised_segment_{i}.mp4')) for i in range(num_segments)]\n",
        "final_video_clip = mp.concatenate_videoclips(denoised_segments)\n",
        "\n",
        "# Define the output video path\n",
        "output_video_path = os.path.join(output_directory, output_video_filename)\n",
        "\n",
        "# Write the denoised final video to the specified path\n",
        "final_video_clip.write_videofile(output_video_path, codec='libx264')\n",
        "print(\"Denoising completed. Download the denoised video:\")\n",
        "print(output_video_path)\n",
        "\n",
        "concatenation_time = time.time() - start_time\n",
        "\n",
        "# Display encoding and denoising times\n",
        "print(f\"Encoding times (seconds): {encoding_times}\")\n",
        "print(f\"Denoising times (seconds): {denoising_times}\")\n",
        "print(f\"Concatenation time (seconds): {concatenation_time}\")\n",
        "\n",
        "# Cleanup: Delete temporary segment files\n",
        "for i in range(num_segments):\n",
        "    segment_filename = f'segment_{i}.mp4'\n",
        "    segment_path = os.path.join(output_directory, segment_filename)\n",
        "    os.remove(segment_path)\n",
        "    output_segment_filename = f'denoised_segment_{i}.mp4'\n",
        "    output_segment_path = os.path.join(output_directory, output_segment_filename)\n",
        "    os.remove(output_segment_path)\n"
      ]
    }
  ]
}