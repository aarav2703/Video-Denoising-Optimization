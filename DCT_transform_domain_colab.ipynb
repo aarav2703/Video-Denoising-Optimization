{
  "nbformat": 4,
  "nbformat_minor": 0,
  "metadata": {
    "colab": {
      "provenance": [],
      "authorship_tag": "ABX9TyM4cKdP/e/UgSZT7D+CXy+p",
      "include_colab_link": true
    },
    "kernelspec": {
      "name": "python3",
      "display_name": "Python 3"
    },
    "language_info": {
      "name": "python"
    }
  },
  "cells": [
    {
      "cell_type": "markdown",
      "metadata": {
        "id": "view-in-github",
        "colab_type": "text"
      },
      "source": [
        "<a href=\"https://colab.research.google.com/github/aarav2703/Video-Denoising-Optimization/blob/main/DCT_transform_domain_colab.ipynb\" target=\"_parent\"><img src=\"https://colab.research.google.com/assets/colab-badge.svg\" alt=\"Open In Colab\"/></a>"
      ]
    },
    {
      "cell_type": "code",
      "execution_count": null,
      "metadata": {
        "colab": {
          "base_uri": "https://localhost:8080/"
        },
        "id": "jYziU_G28DhR",
        "outputId": "a850770d-fca6-4a73-f5fb-50677e3cbffe"
      },
      "outputs": [
        {
          "output_type": "stream",
          "name": "stdout",
          "text": [
            "Drive already mounted at /content/drive; to attempt to forcibly remount, call drive.mount(\"/content/drive\", force_remount=True).\n",
            "Requirement already satisfied: moviepy in /usr/local/lib/python3.10/dist-packages (1.0.3)\n",
            "Requirement already satisfied: opencv-python in /usr/local/lib/python3.10/dist-packages (4.8.0.76)\n",
            "Requirement already satisfied: decorator<5.0,>=4.0.2 in /usr/local/lib/python3.10/dist-packages (from moviepy) (4.4.2)\n",
            "Requirement already satisfied: tqdm<5.0,>=4.11.2 in /usr/local/lib/python3.10/dist-packages (from moviepy) (4.66.2)\n",
            "Requirement already satisfied: requests<3.0,>=2.8.1 in /usr/local/lib/python3.10/dist-packages (from moviepy) (2.31.0)\n",
            "Requirement already satisfied: proglog<=1.0.0 in /usr/local/lib/python3.10/dist-packages (from moviepy) (0.1.10)\n",
            "Requirement already satisfied: numpy>=1.17.3 in /usr/local/lib/python3.10/dist-packages (from moviepy) (1.25.2)\n",
            "Requirement already satisfied: imageio<3.0,>=2.5 in /usr/local/lib/python3.10/dist-packages (from moviepy) (2.31.6)\n",
            "Requirement already satisfied: imageio-ffmpeg>=0.2.0 in /usr/local/lib/python3.10/dist-packages (from moviepy) (0.4.9)\n",
            "Requirement already satisfied: pillow<10.1.0,>=8.3.2 in /usr/local/lib/python3.10/dist-packages (from imageio<3.0,>=2.5->moviepy) (9.4.0)\n",
            "Requirement already satisfied: setuptools in /usr/local/lib/python3.10/dist-packages (from imageio-ffmpeg>=0.2.0->moviepy) (67.7.2)\n",
            "Requirement already satisfied: charset-normalizer<4,>=2 in /usr/local/lib/python3.10/dist-packages (from requests<3.0,>=2.8.1->moviepy) (3.3.2)\n",
            "Requirement already satisfied: idna<4,>=2.5 in /usr/local/lib/python3.10/dist-packages (from requests<3.0,>=2.8.1->moviepy) (3.7)\n",
            "Requirement already satisfied: urllib3<3,>=1.21.1 in /usr/local/lib/python3.10/dist-packages (from requests<3.0,>=2.8.1->moviepy) (2.0.7)\n",
            "Requirement already satisfied: certifi>=2017.4.17 in /usr/local/lib/python3.10/dist-packages (from requests<3.0,>=2.8.1->moviepy) (2024.2.2)\n"
          ]
        },
        {
          "output_type": "stream",
          "name": "stderr",
          "text": [
            "WARNING:py.warnings:/usr/local/lib/python3.10/dist-packages/moviepy/video/io/ffmpeg_reader.py:123: UserWarning: Warning: in file /content/drive/MyDrive/Colab Notebooks/video denoising media/artificial noise adder/pool resort.mp4, 6220800 bytes wanted but 0 bytes read,at frame 59/60, at time 3.28/3.29 sec. Using the last valid frame instead.\n",
            "  warnings.warn(\"Warning: in file %s, \"%(self.filename)+\n",
            "\n"
          ]
        },
        {
          "output_type": "stream",
          "name": "stdout",
          "text": [
            "Moviepy - Building video /content/drive/MyDrive/Colab Notebooks/video denoising media/denoised videos/pool resort_denoised_video_dct_color_preservation.mp4.\n",
            "Moviepy - Writing video /content/drive/MyDrive/Colab Notebooks/video denoising media/denoised videos/pool resort_denoised_video_dct_color_preservation.mp4\n",
            "\n"
          ]
        },
        {
          "output_type": "stream",
          "name": "stderr",
          "text": []
        },
        {
          "output_type": "stream",
          "name": "stdout",
          "text": [
            "Moviepy - Done !\n",
            "Moviepy - video ready /content/drive/MyDrive/Colab Notebooks/video denoising media/denoised videos/pool resort_denoised_video_dct_color_preservation.mp4\n",
            "DCT denoising with color preservation completed. Download the DCT denoised video:\n",
            "/content/drive/MyDrive/Colab Notebooks/video denoising media/denoised videos/pool resort_denoised_video_dct_color_preservation.mp4\n"
          ]
        }
      ],
      "source": [
        "# Cell 1: Mount Google Drive to access files\n",
        "from google.colab import drive\n",
        "drive.mount('/content/drive')\n",
        "\n",
        "# Cell 2: Install necessary libraries\n",
        "!pip install moviepy opencv-python\n",
        "\n",
        "# Cell 3: Import libraries\n",
        "import numpy as np\n",
        "import moviepy.editor as mp\n",
        "import cv2  # Add import statement for OpenCV\n",
        "\n",
        "# Cell 4: Define function for DCT denoising with color preservation\n",
        "def dct_denoise_color(frame, sigma=10):\n",
        "    # Apply 2D Discrete Cosine Transform to each color channel separately\n",
        "    channels_dct = [cv2.dct(np.float32(channel)) for channel in cv2.split(frame)]\n",
        "    # Thresholding (soft thresholding for denoising)\n",
        "    threshold = sigma * 0.1\n",
        "    channels_dct_thresh = [dct * (np.abs(dct) > threshold) for dct in channels_dct]\n",
        "    # Inverse 2D Discrete Cosine Transform for each channel\n",
        "    channels_idct = [cv2.idct(channel_dct_thresh) for channel_dct_thresh in channels_dct_thresh]\n",
        "    # Convert back to uint8 and merge color channels with correct order (RGB)\n",
        "    denoised_frame = cv2.merge([np.uint8(channel_idct) for channel_idct in channels_idct[::-1]])  # Reverse the channel order\n",
        "    return denoised_frame\n",
        "\n",
        "\n",
        "# Cell 5: Specify directory where the video is located\n",
        "video_directory = '/content/drive/MyDrive/Colab Notebooks/video denoising media/artificial noise adder/'\n",
        "\n",
        "# Cell 6: Specify the name of the input video file\n",
        "video_filename = 'pool resort.mp4'\n",
        "\n",
        "# Cell 7: Process and denoise the video in segments with reduced frame size\n",
        "video_path = video_directory + video_filename\n",
        "\n",
        "video_clip = mp.VideoFileClip(video_path)\n",
        "fps = video_clip.fps\n",
        "duration = video_clip.duration\n",
        "segment_duration = 7  # Process 10 seconds of video at a time\n",
        "num_segments = int(np.ceil(duration / segment_duration))\n",
        "\n",
        "output_frames = []\n",
        "\n",
        "for i in range(num_segments):\n",
        "    start_time = i * segment_duration\n",
        "    end_time = min((i + 1) * segment_duration, duration)\n",
        "    segment_clip = video_clip.subclip(start_time, end_time)\n",
        "    segment_clip_resized = segment_clip.resize((1920, 1080))  # Resize frame to reduce memory usage\n",
        "    segment_frames = [frame for frame in segment_clip_resized.iter_frames()]\n",
        "    denoised_frames = [dct_denoise_color(frame) for frame in segment_frames]  # Apply DCT denoising with color preservation\n",
        "    output_frames.extend(denoised_frames)\n",
        "\n",
        "# Cell 8: Specify directory where the denoised video will be saved\n",
        "output_directory = '/content/drive/MyDrive/Colab Notebooks/video denoising media/denoised videos/'\n",
        "\n",
        "# Cell 9: Create a new video clip with denoised frames\n",
        "output_frames_rgb = [cv2.cvtColor(frame, cv2.COLOR_BGR2RGB) for frame in output_frames if frame is not None and frame.size > 0]\n",
        "denoised_video_clip = mp.ImageSequenceClip(output_frames_rgb, fps=fps)\n",
        "\n",
        "# Cell 10: Define output video file path for DCT denoised video\n",
        "output_video_path_dct = output_directory + 'pool resort_denoised_video_dct_color_preservation.mp4'\n",
        "\n",
        "# Cell 11: Write DCT denoised video clip to the output file\n",
        "denoised_video_clip.write_videofile(output_video_path_dct)\n",
        "\n",
        "# Cell 12: Provide download link for the DCT denoised video\n",
        "print(\"DCT denoising with color preservation completed. Download the DCT denoised video:\")\n",
        "print(output_video_path_dct)\n"
      ]
    }
  ]
}