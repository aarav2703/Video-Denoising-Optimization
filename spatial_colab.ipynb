{
  "nbformat": 4,
  "nbformat_minor": 0,
  "metadata": {
    "colab": {
      "provenance": [],
      "authorship_tag": "ABX9TyPWb41HtMwuWkbekQE+16vo",
      "include_colab_link": true
    },
    "kernelspec": {
      "name": "python3",
      "display_name": "Python 3"
    },
    "language_info": {
      "name": "python"
    }
  },
  "cells": [
    {
      "cell_type": "markdown",
      "metadata": {
        "id": "view-in-github",
        "colab_type": "text"
      },
      "source": [
        "<a href=\"https://colab.research.google.com/github/aarav2703/Video-Denoising-Optimization/blob/main/spatial_colab.ipynb\" target=\"_parent\"><img src=\"https://colab.research.google.com/assets/colab-badge.svg\" alt=\"Open In Colab\"/></a>"
      ]
    },
    {
      "cell_type": "code",
      "execution_count": null,
      "metadata": {
        "colab": {
          "base_uri": "https://localhost:8080/"
        },
        "id": "JAo2OWrA53UG",
        "outputId": "38f03c37-2f3e-4409-d605-162e72299307"
      },
      "outputs": [
        {
          "output_type": "stream",
          "name": "stdout",
          "text": [
            "Drive already mounted at /content/drive; to attempt to forcibly remount, call drive.mount(\"/content/drive\", force_remount=True).\n",
            "Requirement already satisfied: moviepy in /usr/local/lib/python3.10/dist-packages (1.0.3)\n",
            "Requirement already satisfied: opencv-python in /usr/local/lib/python3.10/dist-packages (4.8.0.76)\n",
            "Requirement already satisfied: decorator<5.0,>=4.0.2 in /usr/local/lib/python3.10/dist-packages (from moviepy) (4.4.2)\n",
            "Requirement already satisfied: tqdm<5.0,>=4.11.2 in /usr/local/lib/python3.10/dist-packages (from moviepy) (4.66.2)\n",
            "Requirement already satisfied: requests<3.0,>=2.8.1 in /usr/local/lib/python3.10/dist-packages (from moviepy) (2.31.0)\n",
            "Requirement already satisfied: proglog<=1.0.0 in /usr/local/lib/python3.10/dist-packages (from moviepy) (0.1.10)\n",
            "Requirement already satisfied: numpy>=1.17.3 in /usr/local/lib/python3.10/dist-packages (from moviepy) (1.25.2)\n",
            "Requirement already satisfied: imageio<3.0,>=2.5 in /usr/local/lib/python3.10/dist-packages (from moviepy) (2.31.6)\n",
            "Requirement already satisfied: imageio-ffmpeg>=0.2.0 in /usr/local/lib/python3.10/dist-packages (from moviepy) (0.4.9)\n",
            "Requirement already satisfied: pillow<10.1.0,>=8.3.2 in /usr/local/lib/python3.10/dist-packages (from imageio<3.0,>=2.5->moviepy) (9.4.0)\n",
            "Requirement already satisfied: setuptools in /usr/local/lib/python3.10/dist-packages (from imageio-ffmpeg>=0.2.0->moviepy) (67.7.2)\n",
            "Requirement already satisfied: charset-normalizer<4,>=2 in /usr/local/lib/python3.10/dist-packages (from requests<3.0,>=2.8.1->moviepy) (3.3.2)\n",
            "Requirement already satisfied: idna<4,>=2.5 in /usr/local/lib/python3.10/dist-packages (from requests<3.0,>=2.8.1->moviepy) (3.7)\n",
            "Requirement already satisfied: urllib3<3,>=1.21.1 in /usr/local/lib/python3.10/dist-packages (from requests<3.0,>=2.8.1->moviepy) (2.0.7)\n",
            "Requirement already satisfied: certifi>=2017.4.17 in /usr/local/lib/python3.10/dist-packages (from requests<3.0,>=2.8.1->moviepy) (2024.2.2)\n"
          ]
        },
        {
          "output_type": "stream",
          "name": "stderr",
          "text": [
            "WARNING:py.warnings:/usr/local/lib/python3.10/dist-packages/moviepy/video/io/ffmpeg_reader.py:123: UserWarning: Warning: in file /content/drive/MyDrive/Colab Notebooks/video denoising media/artificial noise adder/pool resort.mp4, 6220800 bytes wanted but 0 bytes read,at frame 59/60, at time 3.28/3.29 sec. Using the last valid frame instead.\n",
            "  warnings.warn(\"Warning: in file %s, \"%(self.filename)+\n",
            "\n"
          ]
        },
        {
          "output_type": "stream",
          "name": "stdout",
          "text": [
            "Moviepy - Building video /content/drive/MyDrive/Colab Notebooks/video denoising media/denoised videos/pool resort artificial spatial.mp4.\n",
            "Moviepy - Writing video /content/drive/MyDrive/Colab Notebooks/video denoising media/denoised videos/pool resort artificial spatial.mp4\n",
            "\n"
          ]
        },
        {
          "output_type": "stream",
          "name": "stderr",
          "text": []
        },
        {
          "output_type": "stream",
          "name": "stdout",
          "text": [
            "Moviepy - Done !\n",
            "Moviepy - video ready /content/drive/MyDrive/Colab Notebooks/video denoising media/denoised videos/pool resort artificial spatial.mp4\n",
            "Spatial denoising completed. Download the spatially denoised video:\n",
            "/content/drive/MyDrive/Colab Notebooks/video denoising media/denoised videos/pool resort artificial spatial.mp4\n"
          ]
        }
      ],
      "source": [
        "# Cell 1: Mount Google Drive to access files\n",
        "from google.colab import drive\n",
        "drive.mount('/content/drive')\n",
        "\n",
        "# Cell 2: Install necessary libraries\n",
        "!pip install moviepy opencv-python\n",
        "\n",
        "# Cell 3: Import libraries\n",
        "import numpy as np\n",
        "import moviepy.editor as mp\n",
        "import cv2  # Add import statement for OpenCV\n",
        "\n",
        "# Cell 4: Define function for spatial filtering (Gaussian blur)\n",
        "def spatial_filter(frame, kernel_size=5, sigma=1):\n",
        "    blurred_frame = cv2.GaussianBlur(frame, (kernel_size, kernel_size), sigma)\n",
        "    return blurred_frame\n",
        "\n",
        "# Cell 5: Specify directory where the video is located\n",
        "video_directory = '/content/drive/MyDrive/Colab Notebooks/video denoising media/artificial noise adder/'\n",
        "\n",
        "# Cell 6: Specify the name of the input video file\n",
        "video_filename = 'pool resort.mp4'\n",
        "\n",
        "# Cell 7: Process and denoise the video in segments with reduced frame size\n",
        "video_path = video_directory + video_filename\n",
        "\n",
        "video_clip = mp.VideoFileClip(video_path)\n",
        "fps = video_clip.fps\n",
        "duration = video_clip.duration\n",
        "segment_duration = 10  # Process 10 seconds of video at a time\n",
        "num_segments = int(np.ceil(duration / segment_duration))\n",
        "\n",
        "output_frames = []\n",
        "\n",
        "for i in range(num_segments):\n",
        "    start_time = i * segment_duration\n",
        "    end_time = min((i + 1) * segment_duration, duration)\n",
        "    segment_clip = video_clip.subclip(start_time, end_time)\n",
        "    segment_clip_resized = segment_clip.resize((1920, 1080))  # Resize frame to reduce memory usage\n",
        "    segment_frames = [frame for frame in segment_clip_resized.iter_frames()]\n",
        "    denoised_frames = [spatial_filter(frame) for frame in segment_frames]  # Apply spatial filtering\n",
        "    output_frames.extend(denoised_frames)\n",
        "\n",
        "# Cell 8: Specify directory where the denoised video will be saved\n",
        "output_directory = '/content/drive/MyDrive/Colab Notebooks/video denoising media/denoised videos/'\n",
        "\n",
        "# Cell 9: Create a new video clip with denoised frames\n",
        "denoised_video_clip = mp.ImageSequenceClip(output_frames, fps=fps)\n",
        "\n",
        "# Cell 10: Define output video file path for spatially denoised video\n",
        "output_video_path_spatial = output_directory + 'pool resort artificial spatial.mp4'\n",
        "\n",
        "# Cell 11: Write spatially denoised video clip to the output file\n",
        "denoised_video_clip.write_videofile(output_video_path_spatial)\n",
        "\n",
        "# Cell 12: Provide download link for the spatially denoised video\n",
        "print(\"Spatial denoising completed. Download the spatially denoised video:\")\n",
        "print(output_video_path_spatial)\n"
      ]
    },
    {
      "cell_type": "code",
      "source": [
        "import numpy as np\n",
        "import moviepy.editor as mp\n",
        "import cv2\n",
        "\n",
        "def spatial_filter(frame, kernel_size=5, sigma=1):\n",
        "    # Bilateral filtering to preserve edges\n",
        "    bilateral_filtered_frame = cv2.bilateralFilter(frame, 9, 75, 75)\n",
        "\n",
        "    # Non-Local Means for spatial redundancy\n",
        "    nlmeans_filtered_frame = cv2.fastNlMeansDenoisingColored(bilateral_filtered_frame, None, 10, 10, 7, 21)\n",
        "\n",
        "    # Reduce frame size and denoise in segments\n",
        "    reduced_frame = cv2.resize(nlmeans_filtered_frame, (0, 0), fx=0.5, fy=0.5)\n",
        "\n",
        "    # Adaptive thresholding and bilateral filtering\n",
        "    gray_frame = cv2.cvtColor(reduced_frame, cv2.COLOR_BGR2GRAY)\n",
        "    adaptive_thresh = cv2.adaptiveThreshold(gray_frame, 255, cv2.ADAPTIVE_THRESH_GAUSSIAN_C, cv2.THRESH_BINARY_INV, 11, 2)\n",
        "    adaptive_thresh_color = cv2.cvtColor(adaptive_thresh, cv2.COLOR_GRAY2BGR)\n",
        "    bilateral_filtered_adaptive_thresh = cv2.bilateralFilter(adaptive_thresh_color, 9, 75, 75)\n",
        "\n",
        "    # Choosing optimal sigma and kernel size for Gaussian Blur\n",
        "    optimal_blur_frame = cv2.GaussianBlur(bilateral_filtered_adaptive_thresh, (kernel_size, kernel_size), sigma)\n",
        "\n",
        "    return optimal_blur_frame\n",
        "\n",
        "# Specify directory where the video is located\n",
        "video_directory = '/content/drive/MyDrive/Colab Notebooks/video denoising media/artificial noise adder/'\n",
        "video_filename = 'pool resort.mp4'\n",
        "video_path = video_directory + video_filename\n",
        "\n",
        "# Process and denoise the video in segments\n",
        "video_clip = mp.VideoFileClip(video_path)\n",
        "fps = video_clip.fps\n",
        "duration = video_clip.duration\n",
        "segment_duration = 10  # Process 10 seconds of video at a time\n",
        "num_segments = int(np.ceil(duration / segment_duration))\n",
        "\n",
        "output_frames = []\n",
        "\n",
        "for i in range(num_segments):\n",
        "    start_time = i * segment_duration\n",
        "    end_time = min((i + 1) * segment_duration, duration)\n",
        "    segment_clip = video_clip.subclip(start_time, end_time)\n",
        "    segment_clip_resized = segment_clip.resize((1920, 1080))  # Resize frame to reduce memory usage\n",
        "    segment_frames = [frame for frame in segment_clip_resized.iter_frames()]\n",
        "    denoised_frames = [spatial_filter(frame) for frame in segment_frames]  # Apply spatial filtering\n",
        "    output_frames.extend(denoised_frames)\n",
        "\n",
        "# Specify directory where the denoised video will be saved\n",
        "output_directory = '/content/drive/MyDrive/Colab Notebooks/video denoising media/denoised videos/'\n",
        "\n",
        "# Create a new video clip with denoised frames\n",
        "denoised_video_clip = mp.ImageSequenceClip(output_frames, fps=fps)\n",
        "\n",
        "# Define output video file path for spatially denoised video\n",
        "output_video_path_spatial = output_directory + 'spatial tester.mp4'\n",
        "\n",
        "# Write spatially denoised video clip to the output file\n",
        "denoised_video_clip.write_videofile(output_video_path_spatial)\n",
        "\n",
        "# Provide download link for the spatially denoised video\n",
        "print(\"Spatial denoising completed. Download the spatially denoised video:\")\n",
        "print(output_video_path_spatial)\n"
      ],
      "metadata": {
        "id": "cBVDlEauvv4O"
      },
      "execution_count": null,
      "outputs": []
    }
  ]
}